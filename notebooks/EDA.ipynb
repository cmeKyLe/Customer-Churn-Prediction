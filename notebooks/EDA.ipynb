{
 "cells": [
  {
   "cell_type": "markdown",
   "id": "b8a3a522",
   "metadata": {},
   "source": [
    "# Data Cleaning & Exploratory Data Analysis (EDA)\n",
    "\n",
    "## Project: Customer Churn Prediction & Business Insights Dashboard\n",
    "\n",
    "**Objective:**  \n",
    "In this notebook, we begin our end-to-end data science project by exploring and cleaning the Telco Customer Churn dataset. The goal is to understand the structure of the data, identify key features influencing churn, and prepare the dataset for machine learning.\n",
    "\n",
    "---\n",
    "\n",
    "## Tasks Covered:\n",
    "- Load and inspect raw customer data\n",
    "- Clean and preprocess missing or inconsistent values\n",
    "- Explore feature distributions and relationships with churn\n",
    "- Visualize churn trends and key business insights\n",
    "- Export a clean dataset for modeling \n",
    "\n",
    "---"
   ]
  },
  {
   "cell_type": "code",
   "execution_count": null,
   "id": "959ba4bc",
   "metadata": {},
   "outputs": [],
   "source": [
    "# Import libraries\n",
    "import os\n",
    "import pandas as pd\n",
    "import numpy as np\n",
    "import matplotlib\n",
    "import matplotlib.pyplot as plt\n",
    "import seaborn as sns\n",
    "\n",
    "%matplotlib inline\n",
    "plt.style.use('ggplot')\n",
    "sns.set(style=\"whitegrid\")\n",
    "plt.rcParams['figure.figsize'] = (12,8)"
   ]
  },
  {
   "cell_type": "markdown",
   "id": "351435b9",
   "metadata": {},
   "source": [
    "--- \n",
    "\n",
    "Let’s load the raw CSV file into a DataFrame. We’ll display the first few rows and get an overview of column types and summary statistics to spot any issues."
   ]
  },
  {
   "cell_type": "code",
   "execution_count": null,
   "id": "8008b3aa",
   "metadata": {},
   "outputs": [],
   "source": [
    "# Load and Inspect Data\n",
    "df = pd.read_csv('../dataset/WA_Fn-UseC_-Telco-Customer-Churn.csv')\n",
    "display(df.head(3))\n",
    "df.info()\n",
    "df.describe(include=\"all\") "
   ]
  },
  {
   "cell_type": "markdown",
   "id": "3d1c8839",
   "metadata": {},
   "source": [
    "---\n",
    "\n",
    "The summary will tell us if any columns have missing values or incorrect types. We’ll  check for any “object” types in numeric-looking columns and count nulls."
   ]
  },
  {
   "cell_type": "code",
   "execution_count": null,
   "id": "f5ed36c8",
   "metadata": {},
   "outputs": [],
   "source": [
    "# Check for missing values and data types\n",
    "\n",
    "missing_counts = df.isnull().sum()\n",
    "print('Missing values per column:\\n', missing_counts)\n",
    "\n",
    "object_cols = df.select_dtypes(include='object').columns.tolist()\n",
    "print('Object-typed columns:', object_cols)"
   ]
  },
  {
   "cell_type": "markdown",
   "id": "199d3cc8",
   "metadata": {},
   "source": [
    "--- \n",
    "\n",
    "Since the column 'TotalCharges' is object-typed and likely contains blanks, we will convert it to a numeric type, coerce errors to NaN, then drop any resulting missing rows\n"
   ]
  },
  {
   "cell_type": "code",
   "execution_count": null,
   "id": "c4ca67f4",
   "metadata": {},
   "outputs": [],
   "source": [
    "# Convert TotalCharges to numeric and drop rows with missing data\n",
    "df['TotalCharges'] = pd.to_numeric(df['TotalCharges'], errors='coerce')\n",
    "print(\"Missing TotalCharges after conversion:\", df['TotalCharges'].isnull().sum())\n",
    "\n",
    "# Drop rows with any missing values\n",
    "df.dropna(inplace=True)\n",
    "print(\"Shape after dropping missing rows:\", df.shape)\n"
   ]
  },
  {
   "cell_type": "markdown",
   "id": "10b80bf2",
   "metadata": {},
   "source": [
    "---\n",
    "\n",
    "We will remove or transform columns that won't help with training the model. Specifically, 'customerID' since it is just an identifier, and 'SeniorCitizen' is numeric but will be better represented as categorical"
   ]
  },
  {
   "cell_type": "code",
   "execution_count": null,
   "id": "1b632da3",
   "metadata": {},
   "outputs": [],
   "source": [
    "# Tidy up irrelevant or mis-typed columns \n",
    "df.drop(columns=['customerID'], inplace=True)\n",
    "\n",
    "df['SeniorCitizen'] = df['SeniorCitizen'].map({0: 'No', 1: 'Yes'})\n",
    "\n",
    "df.columns = df.columns.str.strip()\n",
    "\n",
    "df.info()\n"
   ]
  },
  {
   "cell_type": "markdown",
   "id": "5438933f",
   "metadata": {},
   "source": [
    "---\n",
    "### Churn Distribution\n",
    "\n",
    "Before we go deeper, we will examine our target variable's distribution to see if we face any class imbalance issues"
   ]
  },
  {
   "cell_type": "code",
   "execution_count": null,
   "id": "65abf7eb",
   "metadata": {},
   "outputs": [],
   "source": [
    "# Visualize churn distribution\n",
    "ax = sns.countplot(data=df, x='Churn')\n",
    "ax.set_title(\"Overall Churn Distribution\")\n",
    "for p in ax.patches:\n",
    "    ax.annotate(f\"{p.get_height()}\", \n",
    "                (p.get_x() + p.get_width() / 2, p.get_height()), \n",
    "                ha='center', va='bottom')\n",
    "plt.ylabel(\"Count\")\n",
    "plt.show()\n"
   ]
  },
  {
   "cell_type": "code",
   "execution_count": null,
   "id": "725844c3",
   "metadata": {},
   "outputs": [],
   "source": [
    "churn_pct = df['Churn'].value_counts(normalize=True)*100\n",
    "print(churn_pct.round(2))"
   ]
  },
  {
   "cell_type": "markdown",
   "id": "5b8cb69d",
   "metadata": {},
   "source": [
    "- **26.5%** of customers have churned (`Churn = Yes`) and **73.5%** have stayed (`Churn = No`).\n",
    "- This moderate class imbalance means we should use **stratified splits** or **class weights/resampling** when training models."
   ]
  },
  {
   "cell_type": "markdown",
   "id": "98aa8094",
   "metadata": {},
   "source": [
    "--- \n",
    "### Numeric Feature Histograms\n",
    "\n",
    "We will now analyze the numerical features ('tenure', 'MonthlyCharges', 'TotalCharges') to see how their distributions differ between customers who left and those who stayed"
   ]
  },
  {
   "cell_type": "code",
   "execution_count": null,
   "id": "ae4d5cb8",
   "metadata": {},
   "outputs": [],
   "source": [
    "\n",
    "num_cols = ['tenure', 'MonthlyCharges', 'TotalCharges']\n",
    "for col in num_cols:\n",
    "    plt.figure()\n",
    "    sns.histplot(data=df, x=col, hue='Churn', kde=True, bins=30)\n",
    "    plt.title(f\"{col} Distribution by Churn\")\n",
    "    plt.show()"
   ]
  },
  {
   "cell_type": "code",
   "execution_count": null,
   "id": "2c039625",
   "metadata": {},
   "outputs": [],
   "source": [
    "# Median tenure by churn\n",
    "med_tenure = df.groupby('Churn')['tenure'].median()\n",
    "\n",
    "# Mean monthly and total charges by churn\n",
    "mean_month = df.groupby('Churn')['MonthlyCharges'].mean()\n",
    "mean_total = df.groupby('Churn')['TotalCharges'].mean()\n",
    "\n",
    "print(\"Median Tenure:\\n\", med_tenure.round(1))\n",
    "print(\"\\nMean Monthly Charges:\\n\", mean_month.round(2))\n",
    "print(\"\\nMean Total Charges:\\n\", mean_total.round(2))"
   ]
  },
  {
   "cell_type": "markdown",
   "id": "2f99b133",
   "metadata": {},
   "source": [
    "\n",
    "- **Tenure**:  \n",
    "  - Median tenure of churners is **10 months** vs. **38 months** for non‑churners.  \n",
    "  - Over **50%** of churners leave within the first 10 months.\n",
    "\n",
    "- **MonthlyCharges**:  \n",
    "  - Churners pay on average **$74.44** vs. **$61.31** for retained customers.  \n",
    "  - Higher bills correlate strongly with churn risk.\n",
    "\n",
    "- **TotalCharges**:  \n",
    "  - Churners’ average total spend is **$1,532** vs. **$2,555** for non‑churners.  \n",
    "  - Distribution is right‑skewed; consider a log transform if used as a raw feature.\n"
   ]
  },
  {
   "cell_type": "markdown",
   "id": "c5dd9e54",
   "metadata": {},
   "source": [
    "--- \n",
    "### Categorical Feature Countplots\n",
    "\n",
    "We'll now look at how each categorical feature relates to churn. We’ll create count plots for each to spot patterns (e.g., contract type or tech support)."
   ]
  },
  {
   "cell_type": "code",
   "execution_count": null,
   "id": "2a088ba6",
   "metadata": {},
   "outputs": [],
   "source": [
    "# Analysis of categorical features\n",
    "cat_cols = [c for c in df.select_dtypes('object').columns if c != 'Churn']\n",
    "for col in cat_cols:\n",
    "    plt.figure(figsize=(10,4))\n",
    "    sns.countplot(data=df, x=col, hue='Churn')\n",
    "    plt.title(f\"{col} vs. Churn\")\n",
    "    plt.xticks(rotation=45)\n",
    "    plt.tight_layout()\n",
    "    plt.show()\n",
    "    \n",
    "# Function to print churn % per group\n",
    "def churn_rate(col):\n",
    "    rates = df.groupby(col)['Churn'].value_counts(normalize=True).mul(100).unstack()\n",
    "    print(f\"\\nChurn rates by {col}:\")\n",
    "    display(rates.round(1))\n",
    "\n",
    "for col in ['Contract','TechSupport','InternetService','PaymentMethod','SeniorCitizen']:\n",
    "    churn_rate(col)"
   ]
  },
  {
   "cell_type": "markdown",
   "id": "c6db8031",
   "metadata": {},
   "source": [
    "#### Contract\n",
    "- **Month‑to‑month:** 42.7% churn  \n",
    "- **One‑year:** 11.3% churn  \n",
    "- **Two‑year:** 2.8% churn  \n",
    "> **Business wise:** Offer early incentives to move month‑to‑month customers into annual contracts.\n",
    "\n",
    "#### TechSupport\n",
    "- **No Tech Support:** 41.6% churn  \n",
    "- **Yes Tech Support:** 15.2% churn  \n",
    "> **Opportunity:** Bundle or upsell support services for new customers.\n",
    "\n",
    "#### InternetService\n",
    "- **DSL:** 19% churn  \n",
    "- **Fiber optic:** 41.9% churn  \n",
    "- **No internet service:** 7.4% churn  \n",
    "> **Insight:** Fiber‑optic users are most at risk—consider service‑quality guarantees or loyalty perks.\n",
    "\n",
    "#### PaymentMethod\n",
    "- **Electronic check:** 45.3% churn  \n",
    "- **Mailed check:** 19.2% churn  \n",
    "- **Bank transfer (automatic):** 16.7% churn  \n",
    "- **Credit card (automatic):** 15.3% churn  \n",
    "> **Action:** Encourage auto-pay enrollment to reduce churn.\n",
    "\n",
    "#### SeniorCitizen\n",
    "- **No (under 65):** 23.7% churn  \n",
    "- **Yes (65+):** 41.7% churn  \n",
    "> **Strategy:** Develop targeted engagement and educational outreach for senior customers.\n"
   ]
  },
  {
   "cell_type": "markdown",
   "id": "c16e787c",
   "metadata": {},
   "source": [
    "--- \n",
    "\n",
    "### Correlation heatmap\n",
    "\n",
    "Finally, we want an overall correlation view. We’ll one‑hot encode the DataFrame temporarily to compute pairwise correlations, including with a numeric churn flag."
   ]
  },
  {
   "cell_type": "code",
   "execution_count": null,
   "id": "b696db99",
   "metadata": {},
   "outputs": [],
   "source": [
    "# Correlation heatmap including churn\n",
    "tmp = pd.get_dummies(df.drop('Churn', axis=1), drop_first=True)\n",
    "tmp['ChurnFlag'] = df['Churn'].map({'No': 0, 'Yes': 1})\n",
    "\n",
    "plt.figure(figsize=(14,10))\n",
    "sns.heatmap(tmp.corr(), cmap='coolwarm', center=0)\n",
    "plt.title(\"Feature Correlations (including ChurnFlag)\")\n",
    "plt.show()"
   ]
  },
  {
   "cell_type": "code",
   "execution_count": null,
   "id": "8b1f4b20",
   "metadata": {},
   "outputs": [],
   "source": [
    "# Compute correlation of each feature with churn\n",
    "encoded = pd.get_dummies(df.drop('Churn', axis=1), drop_first=True)\n",
    "encoded['ChurnFlag'] = df['Churn'].map({'No':0,'Yes':1})\n",
    "corrs = encoded.corr()['ChurnFlag'].sort_values(ascending=False)\n",
    "\n",
    "# Display top positive and negative\n",
    "print(\"Top positive correlations with churn:\")\n",
    "display(corrs.head(5).round(2))\n",
    "print(\"\\nTop negative correlations with churn:\")\n",
    "display(corrs.tail(5).round(2))\n"
   ]
  },
  {
   "cell_type": "markdown",
   "id": "7a241ff3",
   "metadata": {},
   "source": [
    "- **Highest positive correlations** with churn:\n",
    "  - `InternetService_Fiber optic`: **+0.31**  \n",
    "  - `PaymentMethod_Electronic check`: **+0.30**  \n",
    "  - `MonthlyCharges`: **+0.19**  \n",
    "  - `PaperlessBilling_Yes`: **+0.19**  \n",
    "\n",
    "- **Highest negative correlations** with churn:\n",
    "  - `tenure`: **–0.35**  \n",
    "  - `Contract_Two year`: **–0.30**  \n",
    "  - `TechSupport_No internet service`: **–0.23**  \n",
    "  - `OnlineSecurity_No internet service`: **–0.23**  \n",
    "  - `DeviceProtection_No internet service`: **–0.23**  \n",
    "\n",
    "> **Note:**  \n",
    "> - Customers on two‑year contracts and with longer tenures are the most likely to stay.  \n",
    "> - Fiber‑optic service and electronic-check billing are strong churn risk indicators.  \n",
    "> - No‑internet‑service categories correlate negatively due to minimal service usage.  \n",
    "> - Moderate positive correlation of MonthlyCharges suggests bill levels are a lever.  "
   ]
  },
  {
   "cell_type": "markdown",
   "id": "522ddd37",
   "metadata": {},
   "source": [
    "--- \n",
    "\n",
    "### What I noticed\n",
    "\n",
    "- **People jump ship early.** Over half of the folks who leave do it within their first 10 months. It seems like those first few billing cycles are make‑or‑break.  \n",
    "- **Big bills seem scary.** Customers who churn pay about \\$74 a month on average, versus \\$61 for those who stay.  \n",
    "- **Payment quirks matter.** If someone pays by electronic check, they’re more likely to bail than if they’re on auto‑pay.  \n",
    "- **Support and extras help.** Not having tech support or extra services (like online security) goes hand‑in‑hand with higher churn—especially for our fiber‑optic users.\n",
    "\n",
    "---\n",
    "\n",
    "### Data Quirks & Clean‑Up Notes\n",
    "\n",
    "- We had to drop just a handful of rows (about 11) because their total charges were missing. That’s less than 0.2% of the data—no biggie.  \n",
    "- A few customers rack up over \\$8,000 in total charges (they’ve been with us forever). We might want to cap or log‑transform those before modeling, but they’re rare.\n",
    "\n",
    "---\n",
    "\n",
    "### Where to Go Next\n",
    "\n",
    "1. **Prep the data for models.** Turn our categories into numbers, scale the big bill amounts, and make sure churn stays balanced in train/test splits.  \n",
    "2. **Try out a few models.** I’ll start with simple ones—logistic regression, a decision tree or two, maybe a gradient‑boosted model—and see what works best.  \n",
    "3. **Measure what matters.** We’ll compare accuracy, how many churners each model actually catches, and overall “area under the curve” to pick our winner.  \n",
    "\n",
    "### Exporting cleaned data\n",
    "\n",
    "We want to save our cleaned DataFrame (`df`) from the EDA notebook so that milesstone 2 can load it directly. We will write the CSV to the dataset folder."
   ]
  },
  {
   "cell_type": "code",
   "execution_count": null,
   "id": "dd1e22d7",
   "metadata": {},
   "outputs": [],
   "source": [
    "# Export cleaned data for modeling\n",
    "output_path = '../dataset/cleaned_telco_churn.csv'\n",
    "df.to_csv(output_path, index=False)\n",
    "print(f\"Cleaned data written to {output_path}\")"
   ]
  }
 ],
 "metadata": {
  "kernelspec": {
   "display_name": "base",
   "language": "python",
   "name": "python3"
  },
  "language_info": {
   "codemirror_mode": {
    "name": "ipython",
    "version": 3
   },
   "file_extension": ".py",
   "mimetype": "text/x-python",
   "name": "python",
   "nbconvert_exporter": "python",
   "pygments_lexer": "ipython3",
   "version": "3.12.7"
  }
 },
 "nbformat": 4,
 "nbformat_minor": 5
}
