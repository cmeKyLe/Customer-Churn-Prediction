{
 "cells": [
  {
   "cell_type": "markdown",
   "id": "7ecd5007",
   "metadata": {},
   "source": [
    "# Feature Engineering & Modeling\n",
    "\n"
   ]
  }
 ],
 "metadata": {
  "language_info": {
   "name": "python"
  }
 },
 "nbformat": 4,
 "nbformat_minor": 5
}
