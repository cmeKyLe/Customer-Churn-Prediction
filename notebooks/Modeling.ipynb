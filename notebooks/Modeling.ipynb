{
 "cells": [
  {
   "cell_type": "markdown",
   "id": "7ecd5007",
   "metadata": {},
   "source": [
    "# Feature Engineering & Modeling\n",
    "## Project: Customer Churn Prediction & Business Insights Dashboard\n",
    "\n",
    "**Objective:**  \n",
    "In this notebook, we'll take the clean dataset from Week 1, turn it into a form our models can learn from, build and compare multiple churn‑prediction models, and save the best one for later use in a dashboard or deployment.\n",
    "\n",
    "---\n",
    "\n",
    "## Tasks Covered:\n",
    "- Load cleaned data  \n",
    "- Split into features (`X`) and target (`y`)  \n",
    "- One‑hot encode categorical variables and scale numeric ones  \n",
    "- Create a stratified train/test split  \n",
    "- Train and evaluate:\n",
    "  - Logistic Regression  \n",
    "  - Random Forest  \n",
    "  - Gradient Boosting  \n",
    "- Plot ROC curves for comparison  \n",
    "- Save the winning model  \n",
    "- Export test‑set churn probabilities for dashboarding\n",
    "\n",
    "---\n",
    "We will import all the libraries required for modeling and metrics, and then load the cleaned CSV we generated from EDA."
   ]
  },
  {
   "cell_type": "code",
   "execution_count": 34,
   "id": "4a31390d",
   "metadata": {},
   "outputs": [
    {
     "name": "stdout",
     "output_type": "stream",
     "text": [
      "DataFrame shape: (7032, 21)\n"
     ]
    },
    {
     "data": {
      "text/html": [
       "<div>\n",
       "<style scoped>\n",
       "    .dataframe tbody tr th:only-of-type {\n",
       "        vertical-align: middle;\n",
       "    }\n",
       "\n",
       "    .dataframe tbody tr th {\n",
       "        vertical-align: top;\n",
       "    }\n",
       "\n",
       "    .dataframe thead th {\n",
       "        text-align: right;\n",
       "    }\n",
       "</style>\n",
       "<table border=\"1\" class=\"dataframe\">\n",
       "  <thead>\n",
       "    <tr style=\"text-align: right;\">\n",
       "      <th></th>\n",
       "      <th>customerID</th>\n",
       "      <th>gender</th>\n",
       "      <th>SeniorCitizen</th>\n",
       "      <th>Partner</th>\n",
       "      <th>Dependents</th>\n",
       "      <th>tenure</th>\n",
       "      <th>PhoneService</th>\n",
       "      <th>MultipleLines</th>\n",
       "      <th>InternetService</th>\n",
       "      <th>OnlineSecurity</th>\n",
       "      <th>...</th>\n",
       "      <th>DeviceProtection</th>\n",
       "      <th>TechSupport</th>\n",
       "      <th>StreamingTV</th>\n",
       "      <th>StreamingMovies</th>\n",
       "      <th>Contract</th>\n",
       "      <th>PaperlessBilling</th>\n",
       "      <th>PaymentMethod</th>\n",
       "      <th>MonthlyCharges</th>\n",
       "      <th>TotalCharges</th>\n",
       "      <th>Churn</th>\n",
       "    </tr>\n",
       "  </thead>\n",
       "  <tbody>\n",
       "    <tr>\n",
       "      <th>0</th>\n",
       "      <td>7590-VHVEG</td>\n",
       "      <td>Female</td>\n",
       "      <td>No</td>\n",
       "      <td>Yes</td>\n",
       "      <td>No</td>\n",
       "      <td>1</td>\n",
       "      <td>No</td>\n",
       "      <td>No phone service</td>\n",
       "      <td>DSL</td>\n",
       "      <td>No</td>\n",
       "      <td>...</td>\n",
       "      <td>No</td>\n",
       "      <td>No</td>\n",
       "      <td>No</td>\n",
       "      <td>No</td>\n",
       "      <td>Month-to-month</td>\n",
       "      <td>Yes</td>\n",
       "      <td>Electronic check</td>\n",
       "      <td>29.85</td>\n",
       "      <td>29.85</td>\n",
       "      <td>No</td>\n",
       "    </tr>\n",
       "    <tr>\n",
       "      <th>1</th>\n",
       "      <td>5575-GNVDE</td>\n",
       "      <td>Male</td>\n",
       "      <td>No</td>\n",
       "      <td>No</td>\n",
       "      <td>No</td>\n",
       "      <td>34</td>\n",
       "      <td>Yes</td>\n",
       "      <td>No</td>\n",
       "      <td>DSL</td>\n",
       "      <td>Yes</td>\n",
       "      <td>...</td>\n",
       "      <td>Yes</td>\n",
       "      <td>No</td>\n",
       "      <td>No</td>\n",
       "      <td>No</td>\n",
       "      <td>One year</td>\n",
       "      <td>No</td>\n",
       "      <td>Mailed check</td>\n",
       "      <td>56.95</td>\n",
       "      <td>1889.50</td>\n",
       "      <td>No</td>\n",
       "    </tr>\n",
       "    <tr>\n",
       "      <th>2</th>\n",
       "      <td>3668-QPYBK</td>\n",
       "      <td>Male</td>\n",
       "      <td>No</td>\n",
       "      <td>No</td>\n",
       "      <td>No</td>\n",
       "      <td>2</td>\n",
       "      <td>Yes</td>\n",
       "      <td>No</td>\n",
       "      <td>DSL</td>\n",
       "      <td>Yes</td>\n",
       "      <td>...</td>\n",
       "      <td>No</td>\n",
       "      <td>No</td>\n",
       "      <td>No</td>\n",
       "      <td>No</td>\n",
       "      <td>Month-to-month</td>\n",
       "      <td>Yes</td>\n",
       "      <td>Mailed check</td>\n",
       "      <td>53.85</td>\n",
       "      <td>108.15</td>\n",
       "      <td>Yes</td>\n",
       "    </tr>\n",
       "    <tr>\n",
       "      <th>3</th>\n",
       "      <td>7795-CFOCW</td>\n",
       "      <td>Male</td>\n",
       "      <td>No</td>\n",
       "      <td>No</td>\n",
       "      <td>No</td>\n",
       "      <td>45</td>\n",
       "      <td>No</td>\n",
       "      <td>No phone service</td>\n",
       "      <td>DSL</td>\n",
       "      <td>Yes</td>\n",
       "      <td>...</td>\n",
       "      <td>Yes</td>\n",
       "      <td>Yes</td>\n",
       "      <td>No</td>\n",
       "      <td>No</td>\n",
       "      <td>One year</td>\n",
       "      <td>No</td>\n",
       "      <td>Bank transfer (automatic)</td>\n",
       "      <td>42.30</td>\n",
       "      <td>1840.75</td>\n",
       "      <td>No</td>\n",
       "    </tr>\n",
       "    <tr>\n",
       "      <th>4</th>\n",
       "      <td>9237-HQITU</td>\n",
       "      <td>Female</td>\n",
       "      <td>No</td>\n",
       "      <td>No</td>\n",
       "      <td>No</td>\n",
       "      <td>2</td>\n",
       "      <td>Yes</td>\n",
       "      <td>No</td>\n",
       "      <td>Fiber optic</td>\n",
       "      <td>No</td>\n",
       "      <td>...</td>\n",
       "      <td>No</td>\n",
       "      <td>No</td>\n",
       "      <td>No</td>\n",
       "      <td>No</td>\n",
       "      <td>Month-to-month</td>\n",
       "      <td>Yes</td>\n",
       "      <td>Electronic check</td>\n",
       "      <td>70.70</td>\n",
       "      <td>151.65</td>\n",
       "      <td>Yes</td>\n",
       "    </tr>\n",
       "  </tbody>\n",
       "</table>\n",
       "<p>5 rows × 21 columns</p>\n",
       "</div>"
      ],
      "text/plain": [
       "   customerID  gender SeniorCitizen Partner Dependents  tenure PhoneService  \\\n",
       "0  7590-VHVEG  Female            No     Yes         No       1           No   \n",
       "1  5575-GNVDE    Male            No      No         No      34          Yes   \n",
       "2  3668-QPYBK    Male            No      No         No       2          Yes   \n",
       "3  7795-CFOCW    Male            No      No         No      45           No   \n",
       "4  9237-HQITU  Female            No      No         No       2          Yes   \n",
       "\n",
       "      MultipleLines InternetService OnlineSecurity  ... DeviceProtection  \\\n",
       "0  No phone service             DSL             No  ...               No   \n",
       "1                No             DSL            Yes  ...              Yes   \n",
       "2                No             DSL            Yes  ...               No   \n",
       "3  No phone service             DSL            Yes  ...              Yes   \n",
       "4                No     Fiber optic             No  ...               No   \n",
       "\n",
       "  TechSupport StreamingTV StreamingMovies        Contract PaperlessBilling  \\\n",
       "0          No          No              No  Month-to-month              Yes   \n",
       "1          No          No              No        One year               No   \n",
       "2          No          No              No  Month-to-month              Yes   \n",
       "3         Yes          No              No        One year               No   \n",
       "4          No          No              No  Month-to-month              Yes   \n",
       "\n",
       "               PaymentMethod MonthlyCharges  TotalCharges  Churn  \n",
       "0           Electronic check          29.85         29.85     No  \n",
       "1               Mailed check          56.95       1889.50     No  \n",
       "2               Mailed check          53.85        108.15    Yes  \n",
       "3  Bank transfer (automatic)          42.30       1840.75     No  \n",
       "4           Electronic check          70.70        151.65    Yes  \n",
       "\n",
       "[5 rows x 21 columns]"
      ]
     },
     "metadata": {},
     "output_type": "display_data"
    },
    {
     "name": "stdout",
     "output_type": "stream",
     "text": [
      "<class 'pandas.core.frame.DataFrame'>\n",
      "RangeIndex: 7032 entries, 0 to 7031\n",
      "Data columns (total 21 columns):\n",
      " #   Column            Non-Null Count  Dtype  \n",
      "---  ------            --------------  -----  \n",
      " 0   customerID        7032 non-null   object \n",
      " 1   gender            7032 non-null   object \n",
      " 2   SeniorCitizen     7032 non-null   object \n",
      " 3   Partner           7032 non-null   object \n",
      " 4   Dependents        7032 non-null   object \n",
      " 5   tenure            7032 non-null   int64  \n",
      " 6   PhoneService      7032 non-null   object \n",
      " 7   MultipleLines     7032 non-null   object \n",
      " 8   InternetService   7032 non-null   object \n",
      " 9   OnlineSecurity    7032 non-null   object \n",
      " 10  OnlineBackup      7032 non-null   object \n",
      " 11  DeviceProtection  7032 non-null   object \n",
      " 12  TechSupport       7032 non-null   object \n",
      " 13  StreamingTV       7032 non-null   object \n",
      " 14  StreamingMovies   7032 non-null   object \n",
      " 15  Contract          7032 non-null   object \n",
      " 16  PaperlessBilling  7032 non-null   object \n",
      " 17  PaymentMethod     7032 non-null   object \n",
      " 18  MonthlyCharges    7032 non-null   float64\n",
      " 19  TotalCharges      7032 non-null   float64\n",
      " 20  Churn             7032 non-null   object \n",
      "dtypes: float64(2), int64(1), object(18)\n",
      "memory usage: 1.1+ MB\n"
     ]
    }
   ],
   "source": [
    "# Import libraries and load in cleaned data\n",
    "\n",
    "import pandas as pd\n",
    "import numpy as np\n",
    "from sklearn.model_selection import train_test_split\n",
    "from sklearn.preprocessing import StandardScaler\n",
    "from sklearn.linear_model import LogisticRegression\n",
    "from sklearn.ensemble import RandomForestClassifier, GradientBoostingClassifier\n",
    "from sklearn.metrics import classification_report, roc_auc_score, roc_curve\n",
    "import matplotlib.pyplot as plt\n",
    "import joblib\n",
    "\n",
    "# Load the cleaned dataset\n",
    "df = pd.read_csv('../dataset/cleaned_telco_churn.csv')\n",
    "\n",
    "print(\"DataFrame shape:\", df.shape)\n",
    "display(df.head())\n",
    "df.info()"
   ]
  },
  {
   "cell_type": "markdown",
   "id": "73e5351c",
   "metadata": {},
   "source": [
    "- **Shape**: shows number of rows and columns—matches expectations from milestone 1.  \n",
    "- **Head**: the first 5 rows display all cleaned columns and the `Churn` column.  \n",
    "- **Info**: confirms there are no missing values and types are correct.\n",
    "\n",
    "--- \n",
    "\n",
    "Now we separate features (`X`) from the target (`y`), one‑hot encode our categorical columns, and scale the numeric ones. After each major step, we’ll check shapes and sample values."
   ]
  },
  {
   "cell_type": "code",
   "execution_count": 35,
   "id": "2936f355",
   "metadata": {},
   "outputs": [
    {
     "name": "stdout",
     "output_type": "stream",
     "text": [
      "X shape before encoding: (7032, 19)\n",
      "y distribution:\n",
      " Churn\n",
      "0    0.73\n",
      "1    0.27\n",
      "Name: proportion, dtype: float64\n"
     ]
    }
   ],
   "source": [
    "#Feature/target split\n",
    "X = df.drop(['customerID','Churn'], axis=1)\n",
    "\n",
    "y = df['Churn'].map({'No': 0, 'Yes': 1})\n",
    "\n",
    "print(\"X shape before encoding:\", X.shape)\n",
    "print(\"y distribution:\\n\", y.value_counts(normalize=True).round(2))\n"
   ]
  },
  {
   "cell_type": "markdown",
   "id": "16e4063d",
   "metadata": {},
   "source": [
    "\n",
    "- **X shape before encoding**: confirms initial feature count.  \n",
    "- **y distribution**: shows churn rate (~0.27), matching milestone 1’s findings.\n"
   ]
  },
  {
   "cell_type": "code",
   "execution_count": 36,
   "id": "99af7b8c",
   "metadata": {},
   "outputs": [
    {
     "name": "stdout",
     "output_type": "stream",
     "text": [
      "X shape after encoding: (7032, 30)\n"
     ]
    },
    {
     "data": {
      "text/plain": [
       "Index(['tenure', 'MonthlyCharges', 'TotalCharges', 'gender_Male',\n",
       "       'SeniorCitizen_Yes', 'Partner_Yes', 'Dependents_Yes',\n",
       "       'PhoneService_Yes', 'MultipleLines_No phone service',\n",
       "       'MultipleLines_Yes'],\n",
       "      dtype='object')"
      ]
     },
     "metadata": {},
     "output_type": "display_data"
    }
   ],
   "source": [
    "# One‑hot encoding\n",
    "X = pd.get_dummies(X, drop_first=True)\n",
    "print(\"X shape after encoding:\", X.shape)\n",
    "display(X.columns[:10])  "
   ]
  },
  {
   "cell_type": "markdown",
   "id": "60810fd4",
   "metadata": {},
   "source": [
    "\n",
    "- **Shape growth**: number of columns increased by the number of dummy variables.  \n",
    "- **Sample columns**: the first few encoded feature names.\n"
   ]
  },
  {
   "cell_type": "code",
   "execution_count": 37,
   "id": "13b65bd2",
   "metadata": {},
   "outputs": [
    {
     "name": "stdout",
     "output_type": "stream",
     "text": [
      "Scaled feature means:\n",
      " tenure           -0.0\n",
      "MonthlyCharges    0.0\n",
      "TotalCharges     -0.0\n",
      "dtype: float64\n",
      "Scaled feature stds:\n",
      " tenure            1.0\n",
      "MonthlyCharges    1.0\n",
      "TotalCharges      1.0\n",
      "dtype: float64\n"
     ]
    }
   ],
   "source": [
    "# Scaling numeric features\n",
    "numeric_cols = ['tenure', 'MonthlyCharges', 'TotalCharges']\n",
    "scaler = StandardScaler()\n",
    "X[numeric_cols] = scaler.fit_transform(X[numeric_cols])\n",
    "\n",
    "# Check scaling: mean ~0, std ~1\n",
    "print(\"Scaled feature means:\\n\", X[numeric_cols].mean().round(2))\n",
    "print(\"Scaled feature stds:\\n\", X[numeric_cols].std().round(2))"
   ]
  },
  {
   "cell_type": "markdown",
   "id": "79620fa7",
   "metadata": {},
   "source": [
    "\n",
    "- **Means** are approximately 0 and **stds** approximately 1 for each scaled column—confirming successful scaling.\n",
    "\n",
    "---\n",
    "\n",
    "Next, we split into training and test sets with stratification to preserve the churn rate in both. We’ll verify sizes and churn proportions in each set."
   ]
  },
  {
   "cell_type": "code",
   "execution_count": 38,
   "id": "a0322dfe",
   "metadata": {},
   "outputs": [
    {
     "name": "stdout",
     "output_type": "stream",
     "text": [
      "X_train shape: (4922, 30)\n",
      "X_test shape:  (2110, 30)\n",
      "Train churn rate: 0.27\n",
      "Test churn rate:  0.27\n"
     ]
    }
   ],
   "source": [
    "#Stratified train/test split\n",
    "X_train, X_test, y_train, y_test = train_test_split(\n",
    "    X, y,\n",
    "    test_size=0.30,\n",
    "    random_state=42,\n",
    "    stratify=y\n",
    ")\n",
    "\n",
    "print(\"X_train shape:\", X_train.shape)\n",
    "print(\"X_test shape: \", X_test.shape)\n",
    "print(\"Train churn rate:\", y_train.mean().round(2))\n",
    "print(\"Test churn rate: \", y_test.mean().round(2))\n"
   ]
  },
  {
   "cell_type": "markdown",
   "id": "baafe210",
   "metadata": {},
   "source": [
    "\n",
    "- **Shapes**: ~70% training rows, ~30% test rows.  \n",
    "- **Churn rates**: both ~0.27, confirming stratification.\n",
    "\n",
    "--- \n",
    "We’ll fit a **Logistic Regression** as our baseline model. After training, we’ll output the classification report and ROC AUC, then check that recall for churners and overall AUC meet or exceed our minimum thresholds."
   ]
  },
  {
   "cell_type": "code",
   "execution_count": 39,
   "id": "be5cf238",
   "metadata": {},
   "outputs": [
    {
     "name": "stdout",
     "output_type": "stream",
     "text": [
      "Logistic Regression Classification Report:\n",
      "               precision    recall  f1-score   support\n",
      "\n",
      "           0       0.91      0.72      0.80      1549\n",
      "           1       0.50      0.80      0.62       561\n",
      "\n",
      "    accuracy                           0.74      2110\n",
      "   macro avg       0.71      0.76      0.71      2110\n",
      "weighted avg       0.80      0.74      0.75      2110\n",
      "\n",
      "Logistic Regression ROC AUC: 0.838\n",
      "\n",
      "Churn recall (LogReg): 0.7950089126559715\n",
      "AUC (LogReg): 0.838\n"
     ]
    }
   ],
   "source": [
    "# Train and evaluate Logistic Regression\n",
    "lr = LogisticRegression(class_weight='balanced', max_iter=1000, random_state=42)\n",
    "lr.fit(X_train, y_train)\n",
    "\n",
    "y_pred_lr = lr.predict(X_test)\n",
    "y_proba_lr = lr.predict_proba(X_test)[:, 1]\n",
    "\n",
    "report_lr = classification_report(y_test, y_pred_lr, output_dict=True)\n",
    "auc_lr = roc_auc_score(y_test, y_proba_lr)\n",
    "\n",
    "print(\"Logistic Regression Classification Report:\\n\", classification_report(y_test, y_pred_lr))\n",
    "print(\"Logistic Regression ROC AUC:\", round(auc_lr, 3))\n",
    "\n",
    "# Metric checks\n",
    "print(\"\\nChurn recall (LogReg):\", report_lr['1']['recall'])\n",
    "print(\"AUC (LogReg):\", round(auc_lr, 3))\n"
   ]
  },
  {
   "cell_type": "markdown",
   "id": "e455801d",
   "metadata": {},
   "source": [
    "\n",
    "- **Classification report** printed for both classes.  \n",
    "- **Churn recall** and **AUC** values are displayed\n",
    "\n",
    "--- \n",
    "\n",
    "Next, a **Random Forest** classifier. We’ll train it, then print the same metrics and ensure we see improvement in recall/AUC over Logistic Regression."
   ]
  },
  {
   "cell_type": "code",
   "execution_count": 40,
   "id": "14d0b72c",
   "metadata": {},
   "outputs": [
    {
     "name": "stdout",
     "output_type": "stream",
     "text": [
      "Random Forest Classification Report:\n",
      "               precision    recall  f1-score   support\n",
      "\n",
      "           0       0.82      0.90      0.86      1549\n",
      "           1       0.62      0.46      0.53       561\n",
      "\n",
      "    accuracy                           0.78      2110\n",
      "   macro avg       0.72      0.68      0.70      2110\n",
      "weighted avg       0.77      0.78      0.77      2110\n",
      "\n",
      "Random Forest ROC AUC: 0.815\n",
      "\n",
      "Churn recall (RF): 0.46345811051693403\n",
      "AUC (RF): 0.815\n"
     ]
    }
   ],
   "source": [
    "# Train and evaluate Random Forest\n",
    "rf = RandomForestClassifier(n_estimators=100, class_weight='balanced', random_state=42)\n",
    "rf.fit(X_train, y_train)\n",
    "\n",
    "y_pred_rf = rf.predict(X_test)\n",
    "y_proba_rf = rf.predict_proba(X_test)[:, 1]\n",
    "\n",
    "report_rf = classification_report(y_test, y_pred_rf, output_dict=True)\n",
    "auc_rf = roc_auc_score(y_test, y_proba_rf)\n",
    "\n",
    "print(\"Random Forest Classification Report:\\n\", classification_report(y_test, y_pred_rf))\n",
    "print(\"Random Forest ROC AUC:\", round(auc_rf, 3))\n",
    "\n",
    "# Metric checks\n",
    "print(\"\\nChurn recall (RF):\", report_rf['1']['recall'])\n",
    "print(\"AUC (RF):\", round(auc_rf, 3))\n"
   ]
  },
  {
   "cell_type": "markdown",
   "id": "1e960b8a",
   "metadata": {},
   "source": [
    "\n",
    "- **Churn recall (RF)** should ideally exceed the Logistic Regression recall.  \n",
    "- **AUC (RF)** should be ≥ AUC(LogReg). If not, we may tune hyperparameters next.\n",
    "\n",
    "---\n",
    "\n",
    "Finally, let’s try **Gradient Boosting**. After training, we’ll again compare recall and AUC to pick the best model."
   ]
  },
  {
   "cell_type": "code",
   "execution_count": 41,
   "id": "80a1a8ce",
   "metadata": {},
   "outputs": [
    {
     "name": "stdout",
     "output_type": "stream",
     "text": [
      "Gradient Boosting Classification Report:\n",
      "               precision    recall  f1-score   support\n",
      "\n",
      "           0       0.83      0.90      0.86      1549\n",
      "           1       0.64      0.50      0.56       561\n",
      "\n",
      "    accuracy                           0.79      2110\n",
      "   macro avg       0.74      0.70      0.71      2110\n",
      "weighted avg       0.78      0.79      0.78      2110\n",
      "\n",
      "Gradient Boosting ROC AUC: 0.838\n",
      "\n",
      "Churn recall (GB): 0.5044563279857398\n",
      "AUC (GB): 0.838\n"
     ]
    }
   ],
   "source": [
    "# Train and evaluate Gradient Boosting\n",
    "gb = GradientBoostingClassifier(n_estimators=100, learning_rate=0.1, random_state=42)\n",
    "gb.fit(X_train, y_train)\n",
    "\n",
    "y_pred_gb = gb.predict(X_test)\n",
    "y_proba_gb = gb.predict_proba(X_test)[:, 1]\n",
    "\n",
    "report_gb = classification_report(y_test, y_pred_gb, output_dict=True)\n",
    "auc_gb = roc_auc_score(y_test, y_proba_gb)\n",
    "\n",
    "print(\"Gradient Boosting Classification Report:\\n\", classification_report(y_test, y_pred_gb))\n",
    "print(\"Gradient Boosting ROC AUC:\", round(auc_gb, 3))\n",
    "\n",
    "# Metric checks\n",
    "print(\"\\nChurn recall (GB):\", report_gb['1']['recall'])\n",
    "print(\"AUC (GB):\", round(auc_gb, 3))\n"
   ]
  },
  {
   "cell_type": "markdown",
   "id": "a8032cf0",
   "metadata": {},
   "source": [
    "\n",
    "- **Churn recall (GB)** and **AUC (GB)** are printed.  \n",
    "- If Gradient Boosting outperforms both Logistic Regression and Random Forest, we’ll choose it as our final model.\n",
    "\n",
    "--- \n",
    "\n",
    "To visualize the performance of all three models, we’ll plot their ROC curves together. We’ll verify that the chosen model has the highest curve and AUC."
   ]
  },
  {
   "cell_type": "code",
   "execution_count": 42,
   "id": "4e760999",
   "metadata": {},
   "outputs": [
    {
     "data": {
      "image/png": "[encoded data removed]",
      "text/plain": [
       "<Figure size 800x600 with 1 Axes>"
      ]
     },
     "metadata": {},
     "output_type": "display_data"
    }
   ],
   "source": [
    "# Plot ROC curves for all three models\n",
    "plt.figure(figsize=(8,6))\n",
    "\n",
    "for name, probs in [\n",
    "    (\"Logistic Regression\", y_proba_lr),\n",
    "    (\"Random Forest\", y_proba_rf),\n",
    "    (\"Gradient Boosting\", y_proba_gb)\n",
    "]:\n",
    "    fpr, tpr, _ = roc_curve(y_test, probs)\n",
    "    auc = roc_auc_score(y_test, probs)\n",
    "    plt.plot(fpr, tpr, label=f\"{name} (AUC = {auc:.3f})\")\n",
    "\n",
    "plt.plot([0,1], [0,1], 'k--')\n",
    "plt.xlabel(\"False Positive Rate\")\n",
    "plt.ylabel(\"True Positive Rate\")\n",
    "plt.title(\"ROC Curve Comparison\")\n",
    "plt.legend()\n",
    "plt.show()"
   ]
  },
  {
   "cell_type": "markdown",
   "id": "6c7fa886",
   "metadata": {},
   "source": [
    "\n",
    "- The ROC plot confirms which model achieves the best true positive rate at any false positive rate.  \n",
    "- We will pick Gradient Boosting as our model.\n",
    "\n",
    "--- \n",
    "Now that we’ve identified the winning model, let’s save it to disk. We’ll then confirm the file exists in our `models/` folder.\n"
   ]
  },
  {
   "cell_type": "code",
   "execution_count": 43,
   "id": "9cac3f39",
   "metadata": {},
   "outputs": [
    {
     "name": "stdout",
     "output_type": "stream",
     "text": [
      "Saved model to ../models/churn_gb_model.pkl\n",
      "Loaded model: GradientBoostingClassifier(random_state=42)\n"
     ]
    }
   ],
   "source": [
    "# Save the chosen model\n",
    "import os\n",
    "os.makedirs('../models', exist_ok=True)\n",
    "joblib.dump(gb, '../models/churn_gb_model.pkl')\n",
    "print(\"Saved model to ../models/churn_gb_model.pkl\")\n",
    "\n",
    "m = joblib.load('../models/churn_gb_model.pkl')\n",
    "print(\"Loaded model:\", m)\n"
   ]
  },
  {
   "cell_type": "markdown",
   "id": "35d77977",
   "metadata": {},
   "source": [
    "- The file `churn_gb_model.pkl` appears in `models/`.  \n",
    "- We’ve successfully persisted our best model for future use.\n",
    "\n",
    "--- \n",
    "\n",
    "Finally, let’s prepare the data for our  dashboard by adding each test customer’s predicted churn probability to their records and saving that to CSV. We’ll check the first few rows and the file listing to ensure success."
   ]
  },
  {
   "cell_type": "code",
   "execution_count": 44,
   "id": "97f30536",
   "metadata": {},
   "outputs": [
    {
     "name": "stdout",
     "output_type": "stream",
     "text": [
      "Wrote dashboard_data.csv with churn probabilities\n"
     ]
    }
   ],
   "source": [
    "# Export test-set predictions for dashboard\n",
    "df_test = df.loc[y_test.index].copy()\n",
    "df_test['ChurnProb'] = y_proba_gb\n",
    "df_test.to_csv('../dataset/dashboard_data.csv', index=False)\n",
    "print(\"Wrote dashboard_data.csv with churn probabilities\")"
   ]
  },
  {
   "cell_type": "markdown",
   "id": "f2b1d4a8",
   "metadata": {},
   "source": [
    "--- \n",
    "### Conclusion\n",
    "- Created `dataset/dashboard_data.csv`, containing all original features plus `ChurnProb` for each test customer.  \n",
    "- This file is ready to be connected in Tableau for interactive visualization of churn risk.\n"
   ]
  },
  {
   "cell_type": "markdown",
   "id": "0ac44d64",
   "metadata": {},
   "source": [
    "## Summary\n",
    "\n",
    "- **Feature Engineering:** One‑hot encoding and scaling complete.  \n",
    "- **Models Trained & Compared:**  \n",
    "  - Logistic Regression  \n",
    "  - Random Forest  \n",
    "  - Gradient Boosting (best ROC AUC)  \n",
    "- **Artifacts Saved:**  \n",
    "  - `models/churn_gb_model.pkl`  \n",
    "  - `dataset/dashboard_data.csv`  \n",
    "\n",
    "Next up: build the Tableau dashboard using `dashboard_data.csv` and finalize project documentation.  \n"
   ]
  }
 ],
 "metadata": {
  "kernelspec": {
   "display_name": "base",
   "language": "python",
   "name": "python3"
  },
  "language_info": {
   "codemirror_mode": {
    "name": "ipython",
    "version": 3
   },
   "file_extension": ".py",
   "mimetype": "text/x-python",
   "name": "python",
   "nbconvert_exporter": "python",
   "pygments_lexer": "ipython3",
   "version": "3.12.7"
  }
 },
 "nbformat": 4,
 "nbformat_minor": 5
}
