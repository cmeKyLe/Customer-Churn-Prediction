{
 "cells": [
  {
   "cell_type": "code",
   "execution_count": 2,
   "id": "7ce631e8",
   "metadata": {},
   "outputs": [
    {
     "name": "stdout",
     "output_type": "stream",
     "text": [
      "ROC AUC: 0.8373563992179419\n",
      "Pipeline steps: {'prep': ColumnTransformer(transformers=[('num', StandardScaler(),\n",
      "                                 ['tenure', 'MonthlyCharges', 'TotalCharges']),\n",
      "                                ('cat',\n",
      "                                 OneHotEncoder(drop='first',\n",
      "                                               sparse_output=False),\n",
      "                                 ['gender', 'SeniorCitizen', 'Partner',\n",
      "                                  'Dependents', 'PhoneService', 'MultipleLines',\n",
      "                                  'InternetService', 'OnlineSecurity',\n",
      "                                  'OnlineBackup', 'DeviceProtection',\n",
      "                                  'TechSupport', 'StreamingTV',\n",
      "                                  'StreamingMovies', 'Contract',\n",
      "                                  'PaperlessBilling', 'PaymentMethod'])]), 'smote': SMOTE(random_state=42), 'clf': GradientBoostingClassifier(learning_rate=0.05, n_iter_no_change=10,\n",
      "                           random_state=42, subsample=0.8)}\n"
     ]
    }
   ],
   "source": [
    "import pandas as pd, joblib\n",
    "from sklearn.model_selection import train_test_split\n",
    "from sklearn.metrics import roc_auc_score\n",
    "\n",
    "df = pd.read_csv('../dataset/cleaned_telco_churn.csv')\n",
    "pipeline = joblib.load('../models/churn_pipeline.pkl')\n",
    "dash = pd.read_csv('../dataset/dashboard_data.csv')\n",
    "\n",
    "# 1. Check dashboard has both columns\n",
    "assert 'ChurnProb' in dash and 'ChurnPred' in dash\n",
    "\n",
    "# 2. Recompute metrics\n",
    "X = df.drop(['customerID','Churn'], axis=1)\n",
    "y = df['Churn'].map({'No':0,'Yes':1})\n",
    "X_train, X_test, y_train, y_test = train_test_split(X,y,test_size=0.3,random_state=42,stratify=y)\n",
    "y_proba = pipeline.predict_proba(X_test)[:,1]\n",
    "auc = roc_auc_score(y_test, y_proba)\n",
    "print(\"ROC AUC:\", auc)\n",
    "\n",
    "# 3. Confirm pipeline loads and is the one you just saved\n",
    "print(\"Pipeline steps:\", pipeline.named_steps)\n"
   ]
  },
  {
   "cell_type": "code",
   "execution_count": null,
   "id": "2ced2502",
   "metadata": {},
   "outputs": [],
   "source": []
  }
 ],
 "metadata": {
  "kernelspec": {
   "display_name": "base",
   "language": "python",
   "name": "python3"
  },
  "language_info": {
   "codemirror_mode": {
    "name": "ipython",
    "version": 3
   },
   "file_extension": ".py",
   "mimetype": "text/x-python",
   "name": "python",
   "nbconvert_exporter": "python",
   "pygments_lexer": "ipython3",
   "version": "3.12.7"
  }
 },
 "nbformat": 4,
 "nbformat_minor": 5
}
